{
 "cells": [
  {
   "cell_type": "markdown",
   "id": "fb0ecd52-d546-4491-82e3-ad912cad5e84",
   "metadata": {},
   "source": [
    "# Problem Set 8\n",
    "\n",
    "This problem set is optional and open-ended. There is no bonus point for this problem set. If you choose to submit something, your grade from the problem sets will be the weighted average of the best 7 out of 8 problem sets."
   ]
  },
  {
   "cell_type": "markdown",
   "id": "fdf6aee7-5d42-48de-b2a2-442484ec4edf",
   "metadata": {},
   "source": [
    "The data provided here are adapted and modified from a real take-home project that serves as the first step of the interview process for a data scientist position. This data set is, however, publicly available on [data.world](https://data.world/)."
   ]
  },
  {
   "cell_type": "markdown",
   "id": "098c19d6-8419-4da0-9184-e7800329c296",
   "metadata": {},
   "source": [
    "## Data\n",
    "\n",
    "The dataset (“bank_transactions.csv”) consists of real anonymized bank transactions from a single bank account spanning 5 years and 672 transactions.\n",
    "It consists of the following columns:\n",
    "- **date**: string (you can convert them to `DateTime` objects when importing data)\n",
    "- transaction **type**: categorical with three values -- \"expense\", \"income\", \"other\"\n",
    "- transaction **amount**: real number\n",
    "- **balance**: real number\n"
   ]
  },
  {
   "cell_type": "markdown",
   "id": "8372d60d-dfcc-442e-b522-e5d22ef14032",
   "metadata": {
    "tags": []
   },
   "source": [
    "## Question"
   ]
  },
  {
   "cell_type": "markdown",
   "id": "f143b97d-283f-4c34-b8fd-2f019eb3cd71",
   "metadata": {},
   "source": [
    "- Make visualizations on different categories of transactions over time.\n",
    "- How is the \"balance\" calculated with the \"transaction amount\"?\n",
    "- Any patterns in data you find interesting? Can you explain the patterns you find?\n",
    "- What kind of things that we can do with this data? Can you show some examples?"
   ]
  }
 ],
 "metadata": {
  "kernelspec": {
   "display_name": "Python 3",
   "language": "python",
   "name": "python3"
  },
  "language_info": {
   "codemirror_mode": {
    "name": "ipython",
    "version": 3
   },
   "file_extension": ".py",
   "mimetype": "text/x-python",
   "name": "python",
   "nbconvert_exporter": "python",
   "pygments_lexer": "ipython3",
   "version": "3.7.11"
  }
 },
 "nbformat": 4,
 "nbformat_minor": 5
}
