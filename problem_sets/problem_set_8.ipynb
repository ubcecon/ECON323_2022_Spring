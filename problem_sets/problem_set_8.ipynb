{
 "cells": [
  {
   "cell_type": "markdown",
   "id": "fb0ecd52-d546-4491-82e3-ad912cad5e84",
   "metadata": {},
   "source": [
    "# Problem Set 8\n",
    "\n",
    "This problem set is optional and open-ended. There is no bonus point for this problem set. If you choose to submit something, your grade from the problem sets will be the weighted average of the best 7 out of 8 problem sets."
   ]
  },
  {
   "cell_type": "markdown",
   "id": "fdf6aee7-5d42-48de-b2a2-442484ec4edf",
   "metadata": {},
   "source": [
    "The data provided here are adapted and modified from a real take-home project that serves as the first step of the interview process for a data scientist position. This data set is, however, publicly available on [data.world](https://data.world/)."
   ]
  },
  {
   "cell_type": "markdown",
   "id": "098c19d6-8419-4da0-9184-e7800329c296",
   "metadata": {},
   "source": [
    "## Data\n",
    "\n",
    "The dataset (“bank_transactions.csv”) consists of real anonymized bank transactions from a single bank account spanning 5 years and 672 transactions.\n",
    "It consists of the following columns:\n",
    "- **date**: string (you can convert them to `DateTime` objects when importing data)\n",
    "- transaction **type**: categorical with three values -- \"expense\", \"income\", \"other\"\n",
    "- transaction **amount**: real number\n",
    "- **balance**: real number\n"
   ]
  },
  {
   "cell_type": "code",
   "execution_count": 1,
   "id": "3b743369-20d5-4460-a3f0-39ed5d5832a8",
   "metadata": {},
   "outputs": [],
   "source": [
    "import pandas as pd"
   ]
  },
  {
   "cell_type": "code",
   "execution_count": 5,
   "id": "6c15d2e0-d3ec-4fc3-9e6f-d9f001a091f5",
   "metadata": {},
   "outputs": [
    {
     "data": {
      "text/html": [
       "<div>\n",
       "<style scoped>\n",
       "    .dataframe tbody tr th:only-of-type {\n",
       "        vertical-align: middle;\n",
       "    }\n",
       "\n",
       "    .dataframe tbody tr th {\n",
       "        vertical-align: top;\n",
       "    }\n",
       "\n",
       "    .dataframe thead th {\n",
       "        text-align: right;\n",
       "    }\n",
       "</style>\n",
       "<table border=\"1\" class=\"dataframe\">\n",
       "  <thead>\n",
       "    <tr style=\"text-align: right;\">\n",
       "      <th></th>\n",
       "      <th>date</th>\n",
       "      <th>type</th>\n",
       "      <th>amount</th>\n",
       "      <th>balance</th>\n",
       "    </tr>\n",
       "  </thead>\n",
       "  <tbody>\n",
       "    <tr>\n",
       "      <th>0</th>\n",
       "      <td>1993-05-12</td>\n",
       "      <td>income</td>\n",
       "      <td>500.0</td>\n",
       "      <td>500.0</td>\n",
       "    </tr>\n",
       "    <tr>\n",
       "      <th>1</th>\n",
       "      <td>1993-05-14</td>\n",
       "      <td>income</td>\n",
       "      <td>21959.0</td>\n",
       "      <td>22459.0</td>\n",
       "    </tr>\n",
       "    <tr>\n",
       "      <th>2</th>\n",
       "      <td>1993-05-31</td>\n",
       "      <td>income</td>\n",
       "      <td>51.3</td>\n",
       "      <td>22510.3</td>\n",
       "    </tr>\n",
       "    <tr>\n",
       "      <th>3</th>\n",
       "      <td>1993-05-31</td>\n",
       "      <td>income</td>\n",
       "      <td>54.3</td>\n",
       "      <td>22564.6</td>\n",
       "    </tr>\n",
       "    <tr>\n",
       "      <th>4</th>\n",
       "      <td>1993-06-11</td>\n",
       "      <td>income</td>\n",
       "      <td>2100.0</td>\n",
       "      <td>24664.6</td>\n",
       "    </tr>\n",
       "  </tbody>\n",
       "</table>\n",
       "</div>"
      ],
      "text/plain": [
       "         date    type   amount  balance\n",
       "0  1993-05-12  income    500.0    500.0\n",
       "1  1993-05-14  income  21959.0  22459.0\n",
       "2  1993-05-31  income     51.3  22510.3\n",
       "3  1993-05-31  income     54.3  22564.6\n",
       "4  1993-06-11  income   2100.0  24664.6"
      ]
     },
     "execution_count": 5,
     "metadata": {},
     "output_type": "execute_result"
    }
   ],
   "source": [
    "transactions = pd.read_csv(\"https://raw.githubusercontent.com/ubcecon/ECON323_2022_Spring/main/problem_sets/bank_transactions.csv\")\n",
    "transactions.head()"
   ]
  },
  {
   "cell_type": "markdown",
   "id": "8372d60d-dfcc-442e-b522-e5d22ef14032",
   "metadata": {
    "tags": []
   },
   "source": [
    "## Question"
   ]
  },
  {
   "cell_type": "markdown",
   "id": "f143b97d-283f-4c34-b8fd-2f019eb3cd71",
   "metadata": {},
   "source": [
    "- Make visualizations on different categories of transactions over time.\n",
    "- How is the \"balance\" calculated with the \"transaction amount\"?\n",
    "- Any patterns in data you find interesting? Can you explain the patterns you find?\n",
    "- What kind of things that we can do with this data? Can you show some examples?"
   ]
  }
 ],
 "metadata": {
  "kernelspec": {
   "display_name": "Python 3",
   "language": "python",
   "name": "python3"
  },
  "language_info": {
   "codemirror_mode": {
    "name": "ipython",
    "version": 3
   },
   "file_extension": ".py",
   "mimetype": "text/x-python",
   "name": "python",
   "nbconvert_exporter": "python",
   "pygments_lexer": "ipython3",
   "version": "3.7.11"
  }
 },
 "nbformat": 4,
 "nbformat_minor": 5
}
