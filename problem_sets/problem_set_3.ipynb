{
 "cells": [
  {
   "cell_type": "markdown",
   "id": "9f3900ea-3cd4-4dcf-8459-ca93f0554a94",
   "metadata": {},
   "source": [
    "# Problem Set 3\n",
    "\n",
    "Related lectures: [Collections](https://datascience.quantecon.org/../python_fundamentals/collections.html) and [Control Flow](https://datascience.quantecon.org/../python_fundamentals/control_flow.html). Feel free to apply the linear algebra in Numpy arrays if you find it helpful."
   ]
  },
  {
   "cell_type": "markdown",
   "id": "49ce4c15",
   "metadata": {},
   "source": [
    "## Question 1-3\n",
    "\n",
    "Consider a bond that pays a \\$500 coupon once every quarter.\n",
    "\n",
    "It pays in March, June, September, and December.\n",
    "\n",
    "It promises to do so for 10 years after you purchase it, from January 2022 to December 2031.\n",
    "\n",
    "You discount the future at the rate of $r = 0.005$ **per month**."
   ]
  },
  {
   "cell_type": "markdown",
   "id": "09ef9d33",
   "metadata": {},
   "source": [
    "### Question 1\n",
    "\n",
    "How much do you value the asset in January 2022?"
   ]
  },
  {
   "cell_type": "code",
   "execution_count": null,
   "id": "5e221da8",
   "metadata": {
    "hide-output": false
   },
   "outputs": [],
   "source": [
    "# Your code goes here"
   ]
  },
  {
   "cell_type": "markdown",
   "id": "febfec15",
   "metadata": {},
   "source": [
    "### Question 2\n",
    "\n",
    "Consider a different asset that pays a lump sum at its expiration date rather than a quarterly coupon of \\$500 dollars.\n",
    "\n",
    "How much would this asset need to pay on December 2031 for the two assets to be equally valued?"
   ]
  },
  {
   "cell_type": "code",
   "execution_count": null,
   "id": "baa17356",
   "metadata": {
    "hide-output": false
   },
   "outputs": [],
   "source": [
    "# Your code goes here"
   ]
  },
  {
   "cell_type": "markdown",
   "id": "7ec13521",
   "metadata": {},
   "source": [
    "### Question 3\n",
    "\n",
    "If you already knew that your discount rate would change annually according to the\n",
    "table below, at what price would you value the quarterly asset (from the main text) in January 2022?\n",
    "\n",
    "*Hint*: There are various ways to do this… One way might include a zipped loop for years and a\n",
    "second loop for months.\n",
    "\n",
    "*More Challenging*: Can you create the list of interest rates without calculating each year individually?\n",
    "\n",
    "|Year|Discount Rate|\n",
    "|:------------------------------------------------:|:------------------------------------------------:|\n",
    "|2022|0.005|\n",
    "|2023|0.0047|\n",
    "|2024|0.0044|\n",
    "|2025|0.0041|\n",
    "|2026|0.0038|\n",
    "|2027|0.0035|\n",
    "|2028|0.0032|\n",
    "|2029|0.0029|\n",
    "|2030|0.0026|\n",
    "|2031|0.0023|\n",
    "\n",
    "Hint: create appropriate collections typing from the data directly in the code.  You cannot parse the\n",
    "text table directly."
   ]
  },
  {
   "cell_type": "code",
   "execution_count": null,
   "id": "7fa84502",
   "metadata": {
    "hide-output": false
   },
   "outputs": [],
   "source": [
    "# Your code goes here"
   ]
  },
  {
   "cell_type": "markdown",
   "id": "fc481fa2",
   "metadata": {},
   "source": [
    "## Questions 4-5\n",
    "\n",
    "Companies often invest in training their employees to raise their\n",
    "productivity. Economists sometimes wonder why companies\n",
    "spend money on training employees when this incentivizes other companies to poach\n",
    "their employees with higher salaries since the employees gain human capital from training.\n",
    "\n",
    "Imagine it costs a company 30,000 dollars to teach their employees Python in January, but it also raises their output by 2,500 dollars per month from February on. The company discounts the future at rate of $ r = 0.01 $ per month."
   ]
  },
  {
   "cell_type": "markdown",
   "id": "f5901620",
   "metadata": {},
   "source": [
    "### Question 4\n",
    "\n",
    "For how many full months does an employee need to stay at a company for that company to make a profit for paying for their employees’ Python training?"
   ]
  },
  {
   "cell_type": "code",
   "execution_count": null,
   "id": "cd65296d",
   "metadata": {
    "hide-output": false
   },
   "outputs": [],
   "source": [
    "# Your code goes here"
   ]
  },
  {
   "cell_type": "markdown",
   "id": "fcfca81f",
   "metadata": {},
   "source": [
    "### Question 5\n",
    "\n",
    "Imagine that 80% of the employees stay for 9 months and 20% of the employees stay\n",
    "for 15 months. Is it worth it for the company to invest in employee Python training?"
   ]
  },
  {
   "cell_type": "code",
   "execution_count": null,
   "id": "2661333c",
   "metadata": {
    "hide-output": false
   },
   "outputs": [],
   "source": [
    "# Your code goes here"
   ]
  }
 ],
 "metadata": {
  "date": 1627429658.1397057,
  "filename": "problem_set_2.md",
  "kernelspec": {
   "display_name": "Python 3",
   "language": "python",
   "name": "python3"
  },
  "language_info": {
   "codemirror_mode": {
    "name": "ipython",
    "version": 3
   },
   "file_extension": ".py",
   "mimetype": "text/x-python",
   "name": "python",
   "nbconvert_exporter": "python",
   "pygments_lexer": "ipython3",
   "version": "3.7.11"
  },
  "title": "Problem Set 2"
 },
 "nbformat": 4,
 "nbformat_minor": 5
}
