{
 "cells": [
  {
   "cell_type": "markdown",
   "id": "c25e1dc7",
   "metadata": {},
   "source": [
    "# Problem Set 7\n",
    "\n",
    "See [Visualization Rules](https://datascience.quantecon.org/../applications/visualization_rules.html) and [Regression](https://datascience.quantecon.org/../applications/regression.html)"
   ]
  },
  {
   "cell_type": "code",
   "execution_count": 1,
   "id": "ffb6c82c",
   "metadata": {
    "hide-output": false
   },
   "outputs": [],
   "source": [
    "import matplotlib.pyplot as plt\n",
    "import numpy as np\n",
    "import pandas as pd\n",
    "import patsy\n",
    "import sklearn\n",
    "import sklearn.model_selection\n",
    "import sklearn.ensemble\n",
    "\n",
    "%matplotlib inline"
   ]
  },
  {
   "cell_type": "markdown",
   "id": "e2f2e63e",
   "metadata": {},
   "source": [
    "This problem set uses data on insuree characteristics and medical costs. This is a public domain dataset downloaded from [kaggle](https://www.kaggle.com/mirichoi0218/insurance). \n",
    "\n",
    "The variables in the data are:\n",
    "- age: age of primary beneficiary\n",
    "- sex: insurance contractor gender, female, male\n",
    "- bmi: Body mass index of primary beneficiary\n",
    "- children: Number of children covered by health insurance / Number of dependents\n",
    "- smoker: whether primary beneficiary smokes\n",
    "- region: the beneficiary's residential area in the US, northeast, southeast, southwest, northwest.\n",
    "- charges: medical costs billed by health insurance\n",
    "\n",
    "You will build a  model to predict charges given the other variables in the data. \n"
   ]
  },
  {
   "cell_type": "code",
   "execution_count": 3,
   "id": "98f74d9a",
   "metadata": {
    "hide-output": false
   },
   "outputs": [
    {
     "data": {
      "text/html": [
       "<div>\n",
       "<style scoped>\n",
       "    .dataframe tbody tr th:only-of-type {\n",
       "        vertical-align: middle;\n",
       "    }\n",
       "\n",
       "    .dataframe tbody tr th {\n",
       "        vertical-align: top;\n",
       "    }\n",
       "\n",
       "    .dataframe thead th {\n",
       "        text-align: right;\n",
       "    }\n",
       "</style>\n",
       "<table border=\"1\" class=\"dataframe\">\n",
       "  <thead>\n",
       "    <tr style=\"text-align: right;\">\n",
       "      <th></th>\n",
       "      <th>age</th>\n",
       "      <th>sex</th>\n",
       "      <th>bmi</th>\n",
       "      <th>children</th>\n",
       "      <th>smoker</th>\n",
       "      <th>region</th>\n",
       "      <th>charges</th>\n",
       "    </tr>\n",
       "  </thead>\n",
       "  <tbody>\n",
       "    <tr>\n",
       "      <th>0</th>\n",
       "      <td>19</td>\n",
       "      <td>female</td>\n",
       "      <td>27.900</td>\n",
       "      <td>0</td>\n",
       "      <td>yes</td>\n",
       "      <td>southwest</td>\n",
       "      <td>16884.92400</td>\n",
       "    </tr>\n",
       "    <tr>\n",
       "      <th>1</th>\n",
       "      <td>18</td>\n",
       "      <td>male</td>\n",
       "      <td>33.770</td>\n",
       "      <td>1</td>\n",
       "      <td>no</td>\n",
       "      <td>southeast</td>\n",
       "      <td>1725.55230</td>\n",
       "    </tr>\n",
       "    <tr>\n",
       "      <th>2</th>\n",
       "      <td>28</td>\n",
       "      <td>male</td>\n",
       "      <td>33.000</td>\n",
       "      <td>3</td>\n",
       "      <td>no</td>\n",
       "      <td>southeast</td>\n",
       "      <td>4449.46200</td>\n",
       "    </tr>\n",
       "    <tr>\n",
       "      <th>3</th>\n",
       "      <td>33</td>\n",
       "      <td>male</td>\n",
       "      <td>22.705</td>\n",
       "      <td>0</td>\n",
       "      <td>no</td>\n",
       "      <td>northwest</td>\n",
       "      <td>21984.47061</td>\n",
       "    </tr>\n",
       "    <tr>\n",
       "      <th>4</th>\n",
       "      <td>32</td>\n",
       "      <td>male</td>\n",
       "      <td>28.880</td>\n",
       "      <td>0</td>\n",
       "      <td>no</td>\n",
       "      <td>northwest</td>\n",
       "      <td>3866.85520</td>\n",
       "    </tr>\n",
       "  </tbody>\n",
       "</table>\n",
       "</div>"
      ],
      "text/plain": [
       "   age     sex     bmi  children smoker     region      charges\n",
       "0   19  female  27.900         0    yes  southwest  16884.92400\n",
       "1   18    male  33.770         1     no  southeast   1725.55230\n",
       "2   28    male  33.000         3     no  southeast   4449.46200\n",
       "3   33    male  22.705         0     no  northwest  21984.47061\n",
       "4   32    male  28.880         0     no  northwest   3866.85520"
      ]
     },
     "execution_count": 3,
     "metadata": {},
     "output_type": "execute_result"
    }
   ],
   "source": [
    "insure = pd.read_csv(\"https://raw.githubusercontent.com/ubcecon/ECON323_2022_Spring/main/problem_sets/insurance.csv\")\n",
    "insure.head()"
   ]
  },
  {
   "cell_type": "markdown",
   "id": "6700be65",
   "metadata": {},
   "source": [
    "## Questions 1-3\n",
    "\n",
    "These question are intentionally open-ended. For each one, carefully choose the type of visualization you’ll create. Put some effort into choosing colors, labels, and other formatting."
   ]
  },
  {
   "cell_type": "markdown",
   "id": "f15ca5e5",
   "metadata": {},
   "source": [
    "### Question 1\n",
    "\n",
    "Create a visualization showing the relationship between smoking and medical costs. "
   ]
  },
  {
   "cell_type": "code",
   "execution_count": 3,
   "id": "9f54d4f2",
   "metadata": {},
   "outputs": [],
   "source": [
    "# your code here"
   ]
  },
  {
   "cell_type": "markdown",
   "id": "a18203bf",
   "metadata": {},
   "source": [
    "### Question 2\n",
    "\n",
    "Create a visualization showing the relationship between BMI and medical costs. "
   ]
  },
  {
   "cell_type": "code",
   "execution_count": 4,
   "id": "a18952ae",
   "metadata": {},
   "outputs": [],
   "source": [
    "# your code here"
   ]
  },
  {
   "cell_type": "markdown",
   "id": "ccd2f15d",
   "metadata": {},
   "source": [
    "### Question 3\n",
    "\n",
    "Does the relationship between medical costs and BMI vary with gender? Create a visualization to answer this question."
   ]
  },
  {
   "cell_type": "code",
   "execution_count": 5,
   "id": "3538be03",
   "metadata": {},
   "outputs": [],
   "source": [
    "# your code here"
   ]
  },
  {
   "cell_type": "markdown",
   "id": "6d5a8513",
   "metadata": {},
   "source": [
    "## Questions 4-6\n",
    "\n",
    "In these questions you will build and evaluate a model to predict medical costs. \n",
    "\n",
    "First, we divide the data into training and testing sets. "
   ]
  },
  {
   "cell_type": "code",
   "execution_count": 4,
   "id": "3c675287",
   "metadata": {},
   "outputs": [],
   "source": [
    "train = insure.sample(frac = 0.8,random_state = 42) \n",
    "test = insure.drop(train.index)"
   ]
  },
  {
   "cell_type": "markdown",
   "id": "22715a75",
   "metadata": {},
   "source": [
    "Now we create a numeric matrix of features from our dataframe. The formula interface from the patsy package is one convenient method for doing this."
   ]
  },
  {
   "cell_type": "code",
   "execution_count": 5,
   "id": "5bb98f1f",
   "metadata": {},
   "outputs": [],
   "source": [
    "y, X = patsy.dmatrices(\"charges ~ C(sex)*(age + children + C(smoker) + C(region)) + age:C(smoker)\", insure, return_type='matrix')\n",
    "y = y.flatten()\n",
    "y_train = y[train.index]\n",
    "X_train = X[train.index]\n",
    "y_test = y[test.index]\n",
    "X_test = X[test.index]"
   ]
  },
  {
   "cell_type": "markdown",
   "id": "5af03b86",
   "metadata": {},
   "source": [
    "### Question 4\n",
    "\n",
    "Fit a LASSO model to the training data. Use cross-validation to choose the regularization parameter `alpha`. Print the MSE on the training and testing data."
   ]
  },
  {
   "cell_type": "code",
   "execution_count": 23,
   "id": "828dbd1b",
   "metadata": {},
   "outputs": [],
   "source": [
    "# your code here"
   ]
  },
  {
   "cell_type": "markdown",
   "id": "87c8ebf4",
   "metadata": {},
   "source": [
    "### Question 5\n",
    "\n",
    "Fit a random forest to the training data. Use cross-validation to select the maximum tree depth. (The provided code shows how to do this). Print the MSE on the training and testing data."
   ]
  },
  {
   "cell_type": "code",
   "execution_count": 66,
   "id": "47083145",
   "metadata": {},
   "outputs": [],
   "source": [
    "param_grid = { 'max_depth': [1, 2, 4, 8, 16, None] } # depths to try, you could change this\n",
    "rf_grid = sklearn.model_selection.GridSearchCV(sklearn.ensemble.RandomForestRegressor(n_estimators=25), \n",
    "                                               param_grid, cv=6, scoring='neg_mean_squared_error')\n",
    "rf_grid.fit(X_train, y_train)\n",
    "rf_best = rf_grid.best_estimator_ \n",
    "\n",
    "# you still need to print the MSE"
   ]
  },
  {
   "cell_type": "markdown",
   "id": "0e62e11b",
   "metadata": {},
   "source": [
    "### Question 6 (Optional)\n",
    "\n",
    "Note: this is an optional question, and there is no bonus point for this question.\n",
    "\n",
    "Fit a neural network to the training data. Use cross-validation to select the network architecture (number of layers and widths of layers). Print the MSE for the training and testing data. \n",
    "\n",
    "Hint: Use `GridSearchCV` like in the previous question."
   ]
  },
  {
   "cell_type": "code",
   "execution_count": 1,
   "id": "164763c6",
   "metadata": {},
   "outputs": [],
   "source": [
    "# your code here "
   ]
  }
 ],
 "metadata": {
  "date": 1633586292.607575,
  "filename": "problem_set_6.md",
  "interpreter": {
   "hash": "767d51c1340bd893661ea55ea3124f6de3c7a262a8b4abca0554b478b1e2ff90"
  },
  "kernelspec": {
   "display_name": "Python 3",
   "language": "python",
   "name": "python3"
  },
  "language_info": {
   "codemirror_mode": {
    "name": "ipython",
    "version": 3
   },
   "file_extension": ".py",
   "mimetype": "text/x-python",
   "name": "python",
   "nbconvert_exporter": "python",
   "pygments_lexer": "ipython3",
   "version": "3.7.11"
  },
  "title": "Problem Set 6",
  "widgets": {
   "application/vnd.jupyter.widget-state+json": {
    "state": {},
    "version_major": 2,
    "version_minor": 0
   }
  }
 },
 "nbformat": 4,
 "nbformat_minor": 5
}
