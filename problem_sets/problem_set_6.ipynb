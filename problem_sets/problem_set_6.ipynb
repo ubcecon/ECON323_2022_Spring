{
 "cells": [
  {
   "cell_type": "markdown",
   "id": "c25e1dc7",
   "metadata": {},
   "source": [
    "# Problem Set 6\n",
    "\n",
    "See [Merge](https://datascience.quantecon.org/../pandas/merge.html), [Reshape](https://datascience.quantecon.org/../pandas/reshape.html), and [GroupBy](https://datascience.quantecon.org/../pandas/groupby.html)"
   ]
  },
  {
   "cell_type": "code",
   "execution_count": 3,
   "id": "ffb6c82c",
   "metadata": {
    "hide-output": false
   },
   "outputs": [],
   "source": [
    "import matplotlib.pyplot as plt\n",
    "import numpy as np\n",
    "import pandas as pd\n",
    "\n",
    "%matplotlib inline"
   ]
  },
  {
   "cell_type": "markdown",
   "id": "e2f2e63e",
   "metadata": {},
   "source": [
    "## Questions 1-8\n",
    "\n",
    "Lets start with a relatively straightforward exercise before we get to the really fun stuff.\n",
    "\n",
    "The following code loads a cleaned piece of census data from Statistics Canada."
   ]
  },
  {
   "cell_type": "code",
   "execution_count": 7,
   "id": "98f74d9a",
   "metadata": {
    "hide-output": false
   },
   "outputs": [
    {
     "data": {
      "text/html": [
       "<div>\n",
       "<style scoped>\n",
       "    .dataframe tbody tr th:only-of-type {\n",
       "        vertical-align: middle;\n",
       "    }\n",
       "\n",
       "    .dataframe tbody tr th {\n",
       "        vertical-align: top;\n",
       "    }\n",
       "\n",
       "    .dataframe thead th {\n",
       "        text-align: right;\n",
       "    }\n",
       "</style>\n",
       "<table border=\"1\" class=\"dataframe\">\n",
       "  <thead>\n",
       "    <tr style=\"text-align: right;\">\n",
       "      <th></th>\n",
       "      <th>CDcode</th>\n",
       "      <th>Pname</th>\n",
       "      <th>Population</th>\n",
       "      <th>CollegeEducated</th>\n",
       "      <th>PercentOwnHouse</th>\n",
       "      <th>Income</th>\n",
       "    </tr>\n",
       "  </thead>\n",
       "  <tbody>\n",
       "    <tr>\n",
       "      <th>0</th>\n",
       "      <td>1001</td>\n",
       "      <td>Newfoundland and Labrador</td>\n",
       "      <td>270350</td>\n",
       "      <td>24.8</td>\n",
       "      <td>74.1</td>\n",
       "      <td>74676</td>\n",
       "    </tr>\n",
       "    <tr>\n",
       "      <th>1</th>\n",
       "      <td>1002</td>\n",
       "      <td>Newfoundland and Labrador</td>\n",
       "      <td>20370</td>\n",
       "      <td>7.5</td>\n",
       "      <td>86.3</td>\n",
       "      <td>60912</td>\n",
       "    </tr>\n",
       "    <tr>\n",
       "      <th>2</th>\n",
       "      <td>1003</td>\n",
       "      <td>Newfoundland and Labrador</td>\n",
       "      <td>15560</td>\n",
       "      <td>7.3</td>\n",
       "      <td>86.0</td>\n",
       "      <td>56224</td>\n",
       "    </tr>\n",
       "    <tr>\n",
       "      <th>3</th>\n",
       "      <td>1004</td>\n",
       "      <td>Newfoundland and Labrador</td>\n",
       "      <td>20385</td>\n",
       "      <td>10.9</td>\n",
       "      <td>73.7</td>\n",
       "      <td>44282</td>\n",
       "    </tr>\n",
       "    <tr>\n",
       "      <th>4</th>\n",
       "      <td>1005</td>\n",
       "      <td>Newfoundland and Labrador</td>\n",
       "      <td>42015</td>\n",
       "      <td>17.0</td>\n",
       "      <td>73.9</td>\n",
       "      <td>62565</td>\n",
       "    </tr>\n",
       "  </tbody>\n",
       "</table>\n",
       "</div>"
      ],
      "text/plain": [
       "   CDcode                      Pname  Population  CollegeEducated  \\\n",
       "0    1001  Newfoundland and Labrador      270350             24.8   \n",
       "1    1002  Newfoundland and Labrador       20370              7.5   \n",
       "2    1003  Newfoundland and Labrador       15560              7.3   \n",
       "3    1004  Newfoundland and Labrador       20385             10.9   \n",
       "4    1005  Newfoundland and Labrador       42015             17.0   \n",
       "\n",
       "   PercentOwnHouse  Income  \n",
       "0             74.1   74676  \n",
       "1             86.3   60912  \n",
       "2             86.0   56224  \n",
       "3             73.7   44282  \n",
       "4             73.9   62565  "
      ]
     },
     "execution_count": 7,
     "metadata": {},
     "output_type": "execute_result"
    }
   ],
   "source": [
    "df = pd.read_csv(\"https://datascience.quantecon.org/assets/data/canada_census.csv\", header=0, index_col=False)\n",
    "df.head()"
   ]
  },
  {
   "cell_type": "markdown",
   "id": "f6dba00b",
   "metadata": {},
   "source": [
    "A *census division* is a geographical area, smaller than a Canadian province, that is used to\n",
    "organize information at a slightly more granular level than by province or by city. The census\n",
    "divisions are shown below.\n",
    "\n",
    "![https://datascience.quantecon.org/_static/canada_censusdivisions_map.png](https://datascience.quantecon.org/_static/canada_censusdivisions_map.png)\n",
    "\n",
    "  \n",
    "The data above contains information on 1) the population, 2) percent of population with a college\n",
    "degree, 3) percent of population who own their house/apartment, and 4) the median after-tax income at the\n",
    "*census division* level.\n",
    "\n",
    "Hint: The `groupby` is the key here.  You will need to practice different split, apply, and combine options."
   ]
  },
  {
   "cell_type": "markdown",
   "id": "f15ca5e5",
   "metadata": {},
   "source": [
    "### Question 1\n",
    "\n",
    "Assume that you have a separate data source with province codes and names."
   ]
  },
  {
   "cell_type": "code",
   "execution_count": 8,
   "id": "3b7bc433",
   "metadata": {
    "hide-output": false
   },
   "outputs": [
    {
     "data": {
      "text/html": [
       "<div>\n",
       "<style scoped>\n",
       "    .dataframe tbody tr th:only-of-type {\n",
       "        vertical-align: middle;\n",
       "    }\n",
       "\n",
       "    .dataframe tbody tr th {\n",
       "        vertical-align: top;\n",
       "    }\n",
       "\n",
       "    .dataframe thead th {\n",
       "        text-align: right;\n",
       "    }\n",
       "</style>\n",
       "<table border=\"1\" class=\"dataframe\">\n",
       "  <thead>\n",
       "    <tr style=\"text-align: right;\">\n",
       "      <th></th>\n",
       "      <th>Pname</th>\n",
       "      <th>Code</th>\n",
       "    </tr>\n",
       "  </thead>\n",
       "  <tbody>\n",
       "    <tr>\n",
       "      <th>0</th>\n",
       "      <td>Newfoundland and Labrador</td>\n",
       "      <td>NL</td>\n",
       "    </tr>\n",
       "    <tr>\n",
       "      <th>1</th>\n",
       "      <td>Prince Edward Island</td>\n",
       "      <td>PE</td>\n",
       "    </tr>\n",
       "    <tr>\n",
       "      <th>2</th>\n",
       "      <td>Nova Scotia</td>\n",
       "      <td>NS</td>\n",
       "    </tr>\n",
       "    <tr>\n",
       "      <th>3</th>\n",
       "      <td>New Brunswick</td>\n",
       "      <td>NB</td>\n",
       "    </tr>\n",
       "    <tr>\n",
       "      <th>4</th>\n",
       "      <td>Quebec</td>\n",
       "      <td>QC</td>\n",
       "    </tr>\n",
       "    <tr>\n",
       "      <th>5</th>\n",
       "      <td>Ontario</td>\n",
       "      <td>ON</td>\n",
       "    </tr>\n",
       "    <tr>\n",
       "      <th>6</th>\n",
       "      <td>Manitoba</td>\n",
       "      <td>MB</td>\n",
       "    </tr>\n",
       "    <tr>\n",
       "      <th>7</th>\n",
       "      <td>Saskatchewan</td>\n",
       "      <td>SK</td>\n",
       "    </tr>\n",
       "    <tr>\n",
       "      <th>8</th>\n",
       "      <td>Alberta</td>\n",
       "      <td>AB</td>\n",
       "    </tr>\n",
       "    <tr>\n",
       "      <th>9</th>\n",
       "      <td>British Columbia</td>\n",
       "      <td>BC</td>\n",
       "    </tr>\n",
       "    <tr>\n",
       "      <th>10</th>\n",
       "      <td>Yukon</td>\n",
       "      <td>YT</td>\n",
       "    </tr>\n",
       "    <tr>\n",
       "      <th>11</th>\n",
       "      <td>Northwest Territories</td>\n",
       "      <td>NT</td>\n",
       "    </tr>\n",
       "    <tr>\n",
       "      <th>12</th>\n",
       "      <td>Nunavut</td>\n",
       "      <td>NU</td>\n",
       "    </tr>\n",
       "  </tbody>\n",
       "</table>\n",
       "</div>"
      ],
      "text/plain": [
       "                        Pname Code\n",
       "0   Newfoundland and Labrador   NL\n",
       "1        Prince Edward Island   PE\n",
       "2                 Nova Scotia   NS\n",
       "3               New Brunswick   NB\n",
       "4                      Quebec   QC\n",
       "5                     Ontario   ON\n",
       "6                    Manitoba   MB\n",
       "7                Saskatchewan   SK\n",
       "8                     Alberta   AB\n",
       "9            British Columbia   BC\n",
       "10                      Yukon   YT\n",
       "11      Northwest Territories   NT\n",
       "12                    Nunavut   NU"
      ]
     },
     "execution_count": 8,
     "metadata": {},
     "output_type": "execute_result"
    }
   ],
   "source": [
    "df_provincecodes = pd.DataFrame({\n",
    "    \"Pname\" : [ 'Newfoundland and Labrador', 'Prince Edward Island', 'Nova Scotia',\n",
    "                'New Brunswick', 'Quebec', 'Ontario', 'Manitoba', 'Saskatchewan',\n",
    "                'Alberta', 'British Columbia', 'Yukon', 'Northwest Territories','Nunavut'],\n",
    "    \"Code\" : ['NL', 'PE', 'NS', 'NB', 'QC', 'ON', 'MB', 'SK', 'AB', 'BC', 'YT', 'NT', 'NU']\n",
    "            })\n",
    "df_provincecodes"
   ]
  },
  {
   "cell_type": "markdown",
   "id": "b30f4e6b",
   "metadata": {},
   "source": [
    "With this,\n",
    "\n",
    "1. Either merge or join these province codes into the census dataframe to provide province codes for each province\n",
    "  name. You need to figure out which “key” matches in the merge, and don’t be afraid to rename columns for convenience.  \n",
    "1. Drop the province names from the resulting dataframe.  \n",
    "1. Rename the column with the province codes to “Province”.  Hint: `.rename(columns = <YOURDICTIONARY>)`  "
   ]
  },
  {
   "cell_type": "code",
   "execution_count": 9,
   "id": "d91b00b9",
   "metadata": {
    "hide-output": false
   },
   "outputs": [],
   "source": [
    "# Your code here"
   ]
  },
  {
   "cell_type": "markdown",
   "id": "6edf21be",
   "metadata": {},
   "source": [
    "For this particular example, you could have renamed the column using `replace`. This is a good check."
   ]
  },
  {
   "cell_type": "code",
   "execution_count": 10,
   "id": "ec2c6cf1",
   "metadata": {
    "hide-output": false
   },
   "outputs": [
    {
     "data": {
      "text/html": [
       "<div>\n",
       "<style scoped>\n",
       "    .dataframe tbody tr th:only-of-type {\n",
       "        vertical-align: middle;\n",
       "    }\n",
       "\n",
       "    .dataframe tbody tr th {\n",
       "        vertical-align: top;\n",
       "    }\n",
       "\n",
       "    .dataframe thead th {\n",
       "        text-align: right;\n",
       "    }\n",
       "</style>\n",
       "<table border=\"1\" class=\"dataframe\">\n",
       "  <thead>\n",
       "    <tr style=\"text-align: right;\">\n",
       "      <th></th>\n",
       "      <th>CDcode</th>\n",
       "      <th>Province</th>\n",
       "      <th>Population</th>\n",
       "      <th>CollegeEducated</th>\n",
       "      <th>PercentOwnHouse</th>\n",
       "      <th>Income</th>\n",
       "    </tr>\n",
       "  </thead>\n",
       "  <tbody>\n",
       "    <tr>\n",
       "      <th>0</th>\n",
       "      <td>1001</td>\n",
       "      <td>NL</td>\n",
       "      <td>270350</td>\n",
       "      <td>24.8</td>\n",
       "      <td>74.1</td>\n",
       "      <td>74676</td>\n",
       "    </tr>\n",
       "    <tr>\n",
       "      <th>1</th>\n",
       "      <td>1002</td>\n",
       "      <td>NL</td>\n",
       "      <td>20370</td>\n",
       "      <td>7.5</td>\n",
       "      <td>86.3</td>\n",
       "      <td>60912</td>\n",
       "    </tr>\n",
       "    <tr>\n",
       "      <th>2</th>\n",
       "      <td>1003</td>\n",
       "      <td>NL</td>\n",
       "      <td>15560</td>\n",
       "      <td>7.3</td>\n",
       "      <td>86.0</td>\n",
       "      <td>56224</td>\n",
       "    </tr>\n",
       "    <tr>\n",
       "      <th>3</th>\n",
       "      <td>1004</td>\n",
       "      <td>NL</td>\n",
       "      <td>20385</td>\n",
       "      <td>10.9</td>\n",
       "      <td>73.7</td>\n",
       "      <td>44282</td>\n",
       "    </tr>\n",
       "    <tr>\n",
       "      <th>4</th>\n",
       "      <td>1005</td>\n",
       "      <td>NL</td>\n",
       "      <td>42015</td>\n",
       "      <td>17.0</td>\n",
       "      <td>73.9</td>\n",
       "      <td>62565</td>\n",
       "    </tr>\n",
       "  </tbody>\n",
       "</table>\n",
       "</div>"
      ],
      "text/plain": [
       "   CDcode Province  Population  CollegeEducated  PercentOwnHouse  Income\n",
       "0    1001       NL      270350             24.8             74.1   74676\n",
       "1    1002       NL       20370              7.5             86.3   60912\n",
       "2    1003       NL       15560              7.3             86.0   56224\n",
       "3    1004       NL       20385             10.9             73.7   44282\n",
       "4    1005       NL       42015             17.0             73.9   62565"
      ]
     },
     "execution_count": 10,
     "metadata": {},
     "output_type": "execute_result"
    }
   ],
   "source": [
    "(pd.read_csv(\"https://datascience.quantecon.org/assets/data/canada_census.csv\", header=0, index_col=False)\n",
    ".replace({\n",
    "    \"Alberta\": \"AB\", \"British Columbia\": \"BC\", \"Manitoba\": \"MB\", \"New Brunswick\": \"NB\",\n",
    "    \"Newfoundland and Labrador\": \"NL\", \"Northwest Territories\": \"NT\", \"Nova Scotia\": \"NS\",\n",
    "    \"Nunavut\": \"NU\", \"Ontario\": \"ON\", \"Prince Edward Island\": \"PE\", \"Quebec\": \"QC\",\n",
    "    \"Saskatchewan\": \"SK\", \"Yukon\": \"YT\"})\n",
    ".rename(columns={\"Pname\" : \"Province\"})\n",
    ".head()\n",
    ")"
   ]
  },
  {
   "cell_type": "markdown",
   "id": "8dd6edf6",
   "metadata": {},
   "source": [
    "### Question 2\n",
    "\n",
    "Which province has the highest population? Which has the lowest?"
   ]
  },
  {
   "cell_type": "code",
   "execution_count": null,
   "id": "797f9f35",
   "metadata": {
    "hide-output": false
   },
   "outputs": [],
   "source": [
    "# Your code here"
   ]
  },
  {
   "cell_type": "markdown",
   "id": "cf451c96",
   "metadata": {},
   "source": [
    "### Question 3\n",
    "\n",
    "Show a bar plot of the province populations.  Hint: After the split-apply-combine, you can use `.plot.bar()`."
   ]
  },
  {
   "cell_type": "code",
   "execution_count": null,
   "id": "4dec9d2a",
   "metadata": {
    "hide-output": false
   },
   "outputs": [],
   "source": [
    "# Your code here"
   ]
  },
  {
   "cell_type": "markdown",
   "id": "28200226",
   "metadata": {},
   "source": [
    "### Question 4\n",
    "\n",
    "Which province has the highest percent of individuals with a college education? Which has the\n",
    "lowest?\n",
    "\n",
    "Hint: Remember to weight this calculation by population!"
   ]
  },
  {
   "cell_type": "code",
   "execution_count": null,
   "id": "4d90be69",
   "metadata": {
    "hide-output": false
   },
   "outputs": [],
   "source": [
    "# Your code here"
   ]
  },
  {
   "cell_type": "markdown",
   "id": "270cc9f3",
   "metadata": {},
   "source": [
    "### Question 5\n",
    "\n",
    "What is the census division with the highest median income in each province?"
   ]
  },
  {
   "cell_type": "code",
   "execution_count": null,
   "id": "1b5ddab2",
   "metadata": {
    "hide-output": false
   },
   "outputs": [],
   "source": [
    "# Your code here"
   ]
  },
  {
   "cell_type": "markdown",
   "id": "3dd97434",
   "metadata": {
    "tags": []
   },
   "source": [
    "### Question 6\n",
    "\n",
    "By province, what is the total population of census divisions where more than 80 percent of the population own houses ?"
   ]
  },
  {
   "cell_type": "code",
   "execution_count": null,
   "id": "2071b0af",
   "metadata": {
    "hide-output": false
   },
   "outputs": [],
   "source": [
    "# Your code here"
   ]
  },
  {
   "cell_type": "markdown",
   "id": "7739415c",
   "metadata": {},
   "source": [
    "### Question 7\n",
    "\n",
    "By province, what is the average proportion of college-educated individuals in census divisions\n",
    "where more than 80 percent of the population own houses?"
   ]
  },
  {
   "cell_type": "code",
   "execution_count": null,
   "id": "c39fa5c8",
   "metadata": {
    "hide-output": false
   },
   "outputs": [],
   "source": [
    "# Your code here"
   ]
  },
  {
   "cell_type": "markdown",
   "id": "c83b75a2",
   "metadata": {},
   "source": [
    "### Question 8\n",
    "\n",
    "In the data we provided there is only median income for each census division. For this question only, we pretend that the median income is equal to the average income (In general though this is not a good assumption if you are familiar with labor economics or macroeconomics).\n",
    "\n",
    "Classify the census divisons as low, medium, and highly-educated by using the college-educated proportions,\n",
    "where “low” indicates that less than 10 percent of the area is college-educated, “medium” indicates between 10 and 20 percent is college-educated, and “high” indicates more than 20 percent.\n",
    "\n",
    "Based on that classification, find the average of income. Weight this average income by population for each of the low, medium, high education groups."
   ]
  },
  {
   "cell_type": "code",
   "execution_count": null,
   "id": "dd886824",
   "metadata": {
    "hide-output": false
   },
   "outputs": [],
   "source": [
    "# Your code here"
   ]
  }
 ],
 "metadata": {
  "date": 1633586292.607575,
  "filename": "problem_set_6.md",
  "interpreter": {
   "hash": "767d51c1340bd893661ea55ea3124f6de3c7a262a8b4abca0554b478b1e2ff90"
  },
  "kernelspec": {
   "display_name": "Python 3",
   "language": "python",
   "name": "python3"
  },
  "language_info": {
   "codemirror_mode": {
    "name": "ipython",
    "version": 3
   },
   "file_extension": ".py",
   "mimetype": "text/x-python",
   "name": "python",
   "nbconvert_exporter": "python",
   "pygments_lexer": "ipython3",
   "version": "3.7.11"
  },
  "title": "Problem Set 6"
 },
 "nbformat": 4,
 "nbformat_minor": 5
}
