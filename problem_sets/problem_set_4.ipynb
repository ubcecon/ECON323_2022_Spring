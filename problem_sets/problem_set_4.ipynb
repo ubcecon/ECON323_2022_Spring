{
 "cells": [
  {
   "cell_type": "markdown",
   "id": "432b23d1",
   "metadata": {},
   "source": [
    "# Problem Set 4\n"
   ]
  },
  {
   "cell_type": "markdown",
   "id": "67db17c6",
   "metadata": {},
   "source": [
    "## Question 1\n",
    "\n",
    "As in [Applied Linear Algebra](https://datascience.quantecon.org/../scientific/applied_linalg.html):\n",
    "\n",
    "Consider an economy where in any given year, $ \\alpha = 4\\% $ of current employed workers lose their jobs and\n",
    "$ \\phi = 15\\% $ of unemployed workers find jobs.\n",
    "\n",
    "Define the vector $ x_0 = \\begin{bmatrix} 650,000 & 150,000 \\end{bmatrix} $ as the number of\n",
    "employed and unemployed workers (respectively) at time $ 0 $ in the economy.\n",
    "\n",
    "Adapting the code from the lecture notes, plot the unemployment rate over time in this economy for $ t = 0, \\ldots 20 $ (i.e. number of employed over the total number of workers)."
   ]
  },
  {
   "cell_type": "code",
   "execution_count": null,
   "id": "455411f1",
   "metadata": {
    "hide-output": false
   },
   "outputs": [],
   "source": [
    "# your code here"
   ]
  },
  {
   "cell_type": "markdown",
   "id": "c7a7569b",
   "metadata": {},
   "source": [
    "Continue the simulation for 1000 periods to find a long-run unemployment rate (when it converges)."
   ]
  },
  {
   "cell_type": "code",
   "execution_count": null,
   "id": "c908f794",
   "metadata": {
    "hide-output": false
   },
   "outputs": [],
   "source": [
    "# your code here"
   ]
  },
  {
   "cell_type": "markdown",
   "id": "acaa8c18",
   "metadata": {},
   "source": [
    "## Question 2\n",
    "\n",
    "Wikipedia and other credible statistics sources tell us that the mean and\n",
    "variance of the Uniform(0, 1) distribution are (1/2, 1/12) respectively.\n",
    "\n",
    "How could we check whether the Numpy random numbers approximate these\n",
    "values? (*hint*: some functions in [Introduction to Numpy](https://datascience.quantecon.org/../scientific/numpy_arrays.html) and [Randomness](https://datascience.quantecon.org/../scientific/randomness.html) might be useful)\n",
    "\n",
    "Please only use the functions in the Numpy package (i.e., don't use `scipy.stats`) to answer this question."
   ]
  },
  {
   "cell_type": "code",
   "execution_count": null,
   "id": "83a52142",
   "metadata": {
    "hide-output": false
   },
   "outputs": [],
   "source": [
    "# your code here"
   ]
  },
  {
   "cell_type": "markdown",
   "id": "cec29243",
   "metadata": {},
   "source": [
    "## Question 3\n",
    "\n",
    "Assume you have been given the opportunity to choose between one of three financial assets.\n",
    "\n",
    "You will be given the asset for free, allowed to hold it indefinitely, and will keep all payoffs.\n",
    "\n",
    "Also assume the assets’ payoffs are distributed as follows (the notations are the same as in “Continuous Distributions” subsection of [Randomness](https://datascience.quantecon.org/../scientific/randomness.html)):\n",
    "\n",
    "1. Normal with $ \\mu = 10, \\sigma = 5 $  \n",
    "1. Gamma with $ k = 5.3, \\theta = 2 $  \n",
    "1. Gamma with $ k = 5, \\theta = 2 $  \n",
    "\n",
    "\n",
    "Use `scipy.stats` to answer the following questions:\n",
    "\n",
    "- Which asset has the highest average returns?  \n",
    "- Which asset has the highest median returns?  \n",
    "- Which asset has the lowest coefficient of variation, i.e., standard deviation divided by mean?  \n",
    "- Which asset would you choose? Why? (There is not a single right answer here. Just be creative and express your preferences.)  \n",
    "\n",
    "\n",
    "You can find the official documentation of `scipy.stats` [here](https://docs.scipy.org/doc/scipy/reference/stats.html)"
   ]
  },
  {
   "cell_type": "code",
   "execution_count": 2,
   "id": "e7193f57",
   "metadata": {
    "hide-output": false
   },
   "outputs": [],
   "source": [
    "# your code here"
   ]
  },
  {
   "cell_type": "markdown",
   "id": "db4f3ac9",
   "metadata": {},
   "source": [
    "## Question 4\n",
    "\n",
    "Take the example with preferences over bananas (B) and apples (A) in [Optimization](https://datascience.quantecon.org/../scientific/optimization.html)\n",
    "\n",
    "The consumer solves the following problem:\n",
    "\n",
    "$$\n",
    "\\begin{aligned}\n",
    "\\max_{A, B} & B^{\\alpha}A^{1-\\alpha}\\\\\n",
    "\\text{s.t. } & p_A A + B \\leq W\n",
    "\\end{aligned}\n",
    "$$\n",
    "\n",
    "Fix $ p_A = 2 $ and $ \\alpha = 0.3 $.  Make a grid of `W` between `1` and `3` and then plot the optimal ratio of B to A."
   ]
  },
  {
   "cell_type": "code",
   "execution_count": 4,
   "id": "e604e78b",
   "metadata": {
    "hide-output": false
   },
   "outputs": [],
   "source": [
    "p_A = 3\n",
    "alpha = 0.4\n",
    "\n",
    "# Your code here"
   ]
  },
  {
   "cell_type": "markdown",
   "id": "2bacab8b",
   "metadata": {},
   "source": [
    "Do the same graph for $ \\alpha = 0.5 $ **and compare/interpret.**"
   ]
  },
  {
   "cell_type": "code",
   "execution_count": 5,
   "id": "42fb0116",
   "metadata": {
    "hide-output": false
   },
   "outputs": [],
   "source": [
    "# Your code here"
   ]
  },
  {
   "cell_type": "code",
   "execution_count": null,
   "id": "d4e42ab6-6647-4328-8df8-8e26a806e51d",
   "metadata": {},
   "outputs": [],
   "source": []
  }
 ],
 "metadata": {
  "date": 1627429658.2189074,
  "filename": "problem_set_4.md",
  "kernelspec": {
   "display_name": "Python 3",
   "language": "python",
   "name": "python3"
  },
  "language_info": {
   "codemirror_mode": {
    "name": "ipython",
    "version": 3
   },
   "file_extension": ".py",
   "mimetype": "text/x-python",
   "name": "python",
   "nbconvert_exporter": "python",
   "pygments_lexer": "ipython3",
   "version": "3.7.11"
  },
  "title": "Problem Set 4"
 },
 "nbformat": 4,
 "nbformat_minor": 5
}
